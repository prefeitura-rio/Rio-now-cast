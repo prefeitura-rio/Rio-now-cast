{
 "cells": [
  {
   "cell_type": "code",
   "execution_count": 2,
   "metadata": {},
   "outputs": [
    {
     "name": "stdout",
     "output_type": "stream",
     "text": [
      "Request successful!\n",
      "true\n"
     ]
    }
   ],
   "source": [
    "import requests\n",
    "\n",
    "# API endpoint\n",
    "product = \"ki\"\n",
    "api_url = f\"http://127.0.0.1:5000/upload/{product}\"\n",
    "\n",
    "# Path to your image file\n",
    "image_path = \"/home/patricia/Área de Trabalho/Screenshot from 2024-01-23 12-15-32.png\"\n",
    "\n",
    "# Value to be sent\n",
    "your_value = 10\n",
    "\n",
    "# Create a dictionary with the values to be sent in the form\n",
    "payload = {'value': your_value}\n",
    "\n",
    "# Open the image file in binary mode and attach it to the payload\n",
    "with open(image_path, 'rb') as image_file:\n",
    "    files = {'image': (image_path, image_file, 'image/jpeg')}\n",
    "    \n",
    "    # Make the POST request\n",
    "    response = requests.post(api_url, data=payload, files=files)\n",
    "\n",
    "# Check the response\n",
    "if response.status_code == 200:\n",
    "    print(\"Request successful!\")\n",
    "    print(response.json())\n",
    "else:\n",
    "    print(f\"Error: {response.status_code}, {response.text}\")\n"
   ]
  },
  {
   "cell_type": "code",
   "execution_count": 18,
   "metadata": {},
   "outputs": [
    {
     "name": "stdout",
     "output_type": "stream",
     "text": [
      "    id                        nome type\n",
      "0    1                     Vidigal  met\n",
      "1    2                        Urca  plv\n",
      "2    3                     Rocinha  plv\n",
      "3    4                      Tijuca  plv\n",
      "4    5                Santa Teresa  plv\n",
      "5    6                  Copacabana  plv\n",
      "6    7                      Grajaú  plv\n",
      "7    8          Ilha do Governador  plv\n",
      "8    9                       Penha  plv\n",
      "9   10                   Madureira  plv\n",
      "10  11                       Irajá  met\n",
      "11  12                       Bangu  plv\n",
      "12  13                     Piedade  plv\n",
      "13  14          Jacarepaguá/Tanque  plv\n",
      "14  15                       Saúde  plv\n",
      "15  16             Jardim Botânico  met\n",
      "16  17              Barra/Barrinha  plv\n",
      "17  18  Jacarepaguá/Cidade de Deus  plv\n",
      "18  19             Barra/Riocentro  met\n",
      "19  20                   Guaratiba  met\n",
      "20  21     Est. Grajaú/Jacarepaguá  plv\n",
      "21  22                  Santa Cruz  met\n",
      "22  23                Grande Méier  plv\n",
      "23  24                    Anchieta  plv\n",
      "24  25                 Grota Funda  plv\n",
      "25  26                Campo Grande  plv\n",
      "26  27                    Sepetiba  plv\n",
      "27  28           Alto da Boa Vista  met\n",
      "28  29         Av. Brasil/Mendanha  plv\n",
      "29  30    Recreio dos Bandeirantes  plv\n",
      "30  31                 Laranjeiras  plv\n",
      "31  32               São Cristóvão  met\n",
      "32  33                 Tijuca/Muda  plv\n"
     ]
    }
   ],
   "source": [
    "# import requests\n",
    "# import pandas as pd\n",
    "\n",
    "# url = \"http://alertario.rio.rj.gov.br/upload/xml/Chuvas.xml\"\n",
    "# try:\n",
    "#     # Send a GET request to the URL with a timeout of 60 seconds (1 minute)\n",
    "#     response = requests.get(url, timeout=60)\n",
    "\n",
    "#     # Check if the request was successful (status code 200)\n",
    "#     if response.status_code == 200:\n",
    "#         # Read the content using pandas.read_xml\n",
    "#         # df = pd.read_xml(response.content)\n",
    "#         # df = pd.read_xml(url, elems_only=\"estacoes\")\n",
    "#         # df = pd.read_xml(response.content, elems_only=\"estacoes\")\n",
    "#         # df = pd.read_xml(response.text, elems_only=\"estacoes\")\n",
    "#         # df = pd.read_xml(response.text, attrs_only=\"estacoes\")\n",
    "#         df = pd.read_xml(response.content, attrs_only=\"estacoes\")\n",
    "\n",
    "#         # Now you can work with 'df' as your dataframe\n",
    "#         print(df)\n",
    "#     else:\n",
    "#         print(f\"Failed to open URL. Status code: {response.status_code}\")\n",
    "# except requests.RequestException as e:\n",
    "#     print(f\"An error occurred: {e}\")"
   ]
  }
 ],
 "metadata": {
  "kernelspec": {
   "display_name": "Python 3",
   "language": "python",
   "name": "python3"
  },
  "language_info": {
   "codemirror_mode": {
    "name": "ipython",
    "version": 3
   },
   "file_extension": ".py",
   "mimetype": "text/x-python",
   "name": "python",
   "nbconvert_exporter": "python",
   "pygments_lexer": "ipython3",
   "version": "3.9.12"
  }
 },
 "nbformat": 4,
 "nbformat_minor": 2
}
